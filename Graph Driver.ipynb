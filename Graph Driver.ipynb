{
 "cells": [
  {
   "cell_type": "code",
   "execution_count": 1,
   "metadata": {},
   "outputs": [
    {
     "name": "stdout",
     "output_type": "stream",
     "text": [
      "Requirement already satisfied: astroid==2.5.1 in c:\\users\\stefa\\.conda\\envs\\python36\\lib\\site-packages (from -r requirements.txt (line 1)) (2.5.1)\n",
      "Requirement already satisfied: backcall==0.2.0 in c:\\users\\stefa\\appdata\\roaming\\python\\python36\\site-packages (from -r requirements.txt (line 2)) (0.2.0)\n",
      "Requirement already satisfied: beautifulsoup4==4.9.3 in c:\\users\\stefa\\.conda\\envs\\python36\\lib\\site-packages (from -r requirements.txt (line 3)) (4.9.3)\n",
      "Requirement already satisfied: blis==0.2.4 in c:\\users\\stefa\\appdata\\roaming\\python\\python36\\site-packages (from -r requirements.txt (line 4)) (0.2.4)\n",
      "Requirement already satisfied: boto3==1.17.62 in c:\\users\\stefa\\.conda\\envs\\python36\\lib\\site-packages (from -r requirements.txt (line 5)) (1.17.62)"
     ]
    },
    {
     "name": "stderr",
     "output_type": "stream",
     "text": [
      "WARNING: You are using pip version 21.0.1; however, version 21.1.1 is available.\n",
      "You should consider upgrading via the 'C:\\Users\\Stefa\\.conda\\envs\\python36\\python.exe -m pip install --upgrade pip' command.\n"
     ]
    },
    {
     "name": "stdout",
     "output_type": "stream",
     "text": [
      "\n",
      "Requirement already satisfied: botocore==1.20.62 in c:\\users\\stefa\\.conda\\envs\\python36\\lib\\site-packages (from -r requirements.txt (line 6)) (1.20.62)\n",
      "Requirement already satisfied: certifi==2020.12.5 in c:\\users\\stefa\\.conda\\envs\\python36\\lib\\site-packages (from -r requirements.txt (line 7)) (2020.12.5)\n",
      "Requirement already satisfied: chardet==4.0.0 in c:\\users\\stefa\\.conda\\envs\\python36\\lib\\site-packages (from -r requirements.txt (line 8)) (4.0.0)\n",
      "Requirement already satisfied: click==7.1.2 in c:\\users\\stefa\\.conda\\envs\\python36\\lib\\site-packages (from -r requirements.txt (line 9)) (7.1.2)\n",
      "Requirement already satisfied: colorama==0.4.4 in c:\\users\\stefa\\appdata\\roaming\\python\\python36\\site-packages (from -r requirements.txt (line 10)) (0.4.4)\n",
      "Requirement already satisfied: cssselect==1.1.0 in c:\\users\\stefa\\.conda\\envs\\python36\\lib\\site-packages (from -r requirements.txt (line 11)) (1.1.0)\n",
      "Requirement already satisfied: cycler==0.10.0 in c:\\users\\stefa\\.conda\\envs\\python36\\lib\\site-packages (from -r requirements.txt (line 12)) (0.10.0)\n",
      "Requirement already satisfied: cymem==2.0.5 in c:\\users\\stefa\\.conda\\envs\\python36\\lib\\site-packages (from -r requirements.txt (line 13)) (2.0.5)\n",
      "Requirement already satisfied: decorator==4.4.2 in c:\\users\\stefa\\.conda\\envs\\python36\\lib\\site-packages (from -r requirements.txt (line 14)) (4.4.2)\n",
      "Requirement already satisfied: en-core-web-lg==2.1.0 in c:\\users\\stefa\\.conda\\envs\\python36\\lib\\site-packages (from -r requirements.txt (line 15)) (2.1.0)\n",
      "Requirement already satisfied: en-core-web-sm==2.1.0 in c:\\users\\stefa\\.conda\\envs\\python36\\lib\\site-packages (from -r requirements.txt (line 16)) (2.1.0)\n",
      "Requirement already satisfied: feedfinder2==0.0.4 in c:\\users\\stefa\\.conda\\envs\\python36\\lib\\site-packages (from -r requirements.txt (line 17)) (0.0.4)\n",
      "Requirement already satisfied: feedparser==6.0.2 in c:\\users\\stefa\\.conda\\envs\\python36\\lib\\site-packages (from -r requirements.txt (line 18)) (6.0.2)\n",
      "Requirement already satisfied: filelock==3.0.12 in c:\\users\\stefa\\.conda\\envs\\python36\\lib\\site-packages (from -r requirements.txt (line 19)) (3.0.12)\n",
      "Requirement already satisfied: future==0.18.2 in c:\\users\\stefa\\.conda\\envs\\python36\\lib\\site-packages (from -r requirements.txt (line 20)) (0.18.2)\n",
      "Requirement already satisfied: gdelt==0.1.10.5.3 in c:\\users\\stefa\\.conda\\envs\\python36\\lib\\site-packages (from -r requirements.txt (line 21)) (0.1.10.5.3)\n",
      "Requirement already satisfied: idna==2.10 in c:\\users\\stefa\\.conda\\envs\\python36\\lib\\site-packages (from -r requirements.txt (line 22)) (2.10)\n",
      "Requirement already satisfied: importlib-metadata==3.7.3 in c:\\users\\stefa\\.conda\\envs\\python36\\lib\\site-packages (from -r requirements.txt (line 23)) (3.7.3)\n",
      "Requirement already satisfied: ipython==7.16.1 in c:\\users\\stefa\\appdata\\roaming\\python\\python36\\site-packages (from -r requirements.txt (line 24)) (7.16.1)\n",
      "Requirement already satisfied: ipython-genutils==0.2.0 in c:\\users\\stefa\\appdata\\roaming\\python\\python36\\site-packages (from -r requirements.txt (line 25)) (0.2.0)\n",
      "Requirement already satisfied: isort==5.7.0 in c:\\users\\stefa\\.conda\\envs\\python36\\lib\\site-packages (from -r requirements.txt (line 26)) (5.7.0)\n",
      "Requirement already satisfied: jedi==0.18.0 in c:\\users\\stefa\\appdata\\roaming\\python\\python36\\site-packages (from -r requirements.txt (line 27)) (0.18.0)\n",
      "Requirement already satisfied: jieba3k==0.35.1 in c:\\users\\stefa\\.conda\\envs\\python36\\lib\\site-packages (from -r requirements.txt (line 28)) (0.35.1)\n",
      "Requirement already satisfied: Jinja2==2.11.3 in c:\\users\\stefa\\.conda\\envs\\python36\\lib\\site-packages (from -r requirements.txt (line 29)) (2.11.3)\n",
      "Requirement already satisfied: jmespath==0.10.0 in c:\\users\\stefa\\.conda\\envs\\python36\\lib\\site-packages (from -r requirements.txt (line 30)) (0.10.0)\n",
      "Requirement already satisfied: joblib==1.0.1 in c:\\users\\stefa\\.conda\\envs\\python36\\lib\\site-packages (from -r requirements.txt (line 31)) (1.0.1)\n",
      "Requirement already satisfied: jsonpickle==2.0.0 in c:\\users\\stefa\\.conda\\envs\\python36\\lib\\site-packages (from -r requirements.txt (line 32)) (2.0.0)\n",
      "Requirement already satisfied: jsonschema==2.6.0 in c:\\users\\stefa\\appdata\\roaming\\python\\python36\\site-packages (from -r requirements.txt (line 33)) (2.6.0)\n",
      "Requirement already satisfied: kiwisolver==1.3.1 in c:\\users\\stefa\\.conda\\envs\\python36\\lib\\site-packages (from -r requirements.txt (line 34)) (1.3.1)\n",
      "Requirement already satisfied: lazy-object-proxy==1.5.2 in c:\\users\\stefa\\.conda\\envs\\python36\\lib\\site-packages (from -r requirements.txt (line 35)) (1.5.2)\n",
      "Requirement already satisfied: lxml==4.6.3 in c:\\users\\stefa\\.conda\\envs\\python36\\lib\\site-packages (from -r requirements.txt (line 36)) (4.6.3)\n",
      "Requirement already satisfied: MarkupSafe==1.1.1 in c:\\users\\stefa\\.conda\\envs\\python36\\lib\\site-packages (from -r requirements.txt (line 37)) (1.1.1)\n",
      "Requirement already satisfied: matplotlib==3.3.4 in c:\\users\\stefa\\.conda\\envs\\python36\\lib\\site-packages (from -r requirements.txt (line 38)) (3.3.4)\n",
      "Requirement already satisfied: mccabe==0.6.1 in c:\\users\\stefa\\appdata\\roaming\\python\\python36\\site-packages (from -r requirements.txt (line 39)) (0.6.1)\n",
      "Requirement already satisfied: murmurhash==1.0.5 in c:\\users\\stefa\\.conda\\envs\\python36\\lib\\site-packages (from -r requirements.txt (line 40)) (1.0.5)\n",
      "Requirement already satisfied: neo4j==4.2.1 in c:\\users\\stefa\\.conda\\envs\\python36\\lib\\site-packages (from -r requirements.txt (line 41)) (4.2.1)\n",
      "Requirement already satisfied: networkx==2.5 in c:\\users\\stefa\\.conda\\envs\\python36\\lib\\site-packages (from -r requirements.txt (line 42)) (2.5)\n",
      "Requirement already satisfied: neuralcoref==4.0 in c:\\users\\stefa\\.conda\\envs\\python36\\lib\\site-packages (from -r requirements.txt (line 43)) (4.0)\n",
      "Requirement already satisfied: newspaper3k==0.2.8 in c:\\users\\stefa\\.conda\\envs\\python36\\lib\\site-packages (from -r requirements.txt (line 44)) (0.2.8)\n",
      "Requirement already satisfied: nltk==3.5 in c:\\users\\stefa\\.conda\\envs\\python36\\lib\\site-packages (from -r requirements.txt (line 45)) (3.5)\n",
      "Requirement already satisfied: numpy==1.19.5 in c:\\users\\stefa\\.conda\\envs\\python36\\lib\\site-packages (from -r requirements.txt (line 46)) (1.19.5)\n",
      "Requirement already satisfied: oauthlib==3.1.0 in c:\\users\\stefa\\.conda\\envs\\python36\\lib\\site-packages (from -r requirements.txt (line 47)) (3.1.0)\n",
      "Requirement already satisfied: pandas==1.1.5 in c:\\users\\stefa\\.conda\\envs\\python36\\lib\\site-packages (from -r requirements.txt (line 48)) (1.1.5)\n",
      "Requirement already satisfied: parso==0.8.1 in c:\\users\\stefa\\.conda\\envs\\python36\\lib\\site-packages (from -r requirements.txt (line 49)) (0.8.1)\n",
      "Requirement already satisfied: pickleshare==0.7.5 in c:\\users\\stefa\\appdata\\roaming\\python\\python36\\site-packages (from -r requirements.txt (line 50)) (0.7.5)\n",
      "Requirement already satisfied: Pillow==8.1.2 in c:\\users\\stefa\\.conda\\envs\\python36\\lib\\site-packages (from -r requirements.txt (line 51)) (8.1.2)\n",
      "Requirement already satisfied: plac==0.9.6 in c:\\users\\stefa\\appdata\\roaming\\python\\python36\\site-packages (from -r requirements.txt (line 52)) (0.9.6)\n",
      "Requirement already satisfied: preshed==2.0.1 in c:\\users\\stefa\\appdata\\roaming\\python\\python36\\site-packages (from -r requirements.txt (line 53)) (2.0.1)\n",
      "Requirement already satisfied: prompt-toolkit==3.0.17 in c:\\users\\stefa\\.conda\\envs\\python36\\lib\\site-packages (from -r requirements.txt (line 54)) (3.0.17)\n",
      "Requirement already satisfied: Pygments==2.8.1 in c:\\users\\stefa\\appdata\\roaming\\python\\python36\\site-packages (from -r requirements.txt (line 55)) (2.8.1)\n",
      "Requirement already satisfied: pylint==2.7.2 in c:\\users\\stefa\\.conda\\envs\\python36\\lib\\site-packages (from -r requirements.txt (line 56)) (2.7.2)\n",
      "Requirement already satisfied: pymongo==3.11.3 in c:\\users\\stefa\\.conda\\envs\\python36\\lib\\site-packages (from -r requirements.txt (line 57)) (3.11.3)\n",
      "Requirement already satisfied: pyparsing==2.4.7 in c:\\users\\stefa\\.conda\\envs\\python36\\lib\\site-packages (from -r requirements.txt (line 58)) (2.4.7)\n",
      "Requirement already satisfied: python-dateutil==2.8.1 in c:\\users\\stefa\\appdata\\roaming\\python\\python36\\site-packages (from -r requirements.txt (line 59)) (2.8.1)\n",
      "Requirement already satisfied: python-dotenv==0.17.1 in c:\\users\\stefa\\.conda\\envs\\python36\\lib\\site-packages (from -r requirements.txt (line 60)) (0.17.1)\n",
      "Requirement already satisfied: pytz==2021.1 in c:\\users\\stefa\\.conda\\envs\\python36\\lib\\site-packages (from -r requirements.txt (line 61)) (2021.1)\n",
      "Requirement already satisfied: pyvis==0.1.9 in c:\\users\\stefa\\.conda\\envs\\python36\\lib\\site-packages (from -r requirements.txt (line 62)) (0.1.9)\n",
      "Requirement already satisfied: PyYAML==5.4.1 in c:\\users\\stefa\\.conda\\envs\\python36\\lib\\site-packages (from -r requirements.txt (line 63)) (5.4.1)\n",
      "Requirement already satisfied: regex==2021.3.17 in c:\\users\\stefa\\.conda\\envs\\python36\\lib\\site-packages (from -r requirements.txt (line 64)) (2021.3.17)\n",
      "Requirement already satisfied: requests==2.25.1 in c:\\users\\stefa\\.conda\\envs\\python36\\lib\\site-packages (from -r requirements.txt (line 65)) (2.25.1)\n",
      "Requirement already satisfied: requests-file==1.5.1 in c:\\users\\stefa\\.conda\\envs\\python36\\lib\\site-packages (from -r requirements.txt (line 66)) (1.5.1)\n",
      "Requirement already satisfied: requests-oauthlib==1.3.0 in c:\\users\\stefa\\.conda\\envs\\python36\\lib\\site-packages (from -r requirements.txt (line 67)) (1.3.0)\n",
      "Requirement already satisfied: s3transfer==0.4.2 in c:\\users\\stefa\\.conda\\envs\\python36\\lib\\site-packages (from -r requirements.txt (line 68)) (0.4.2)\n"
     ]
    },
    {
     "name": "stdout",
     "output_type": "stream",
     "text": [
      "Requirement already satisfied: sgmllib3k==1.0.0 in c:\\users\\stefa\\.conda\\envs\\python36\\lib\\site-packages (from -r requirements.txt (line 69)) (1.0.0)\n",
      "Requirement already satisfied: six==1.15.0 in c:\\users\\stefa\\.conda\\envs\\python36\\lib\\site-packages (from -r requirements.txt (line 70)) (1.15.0)\n",
      "Requirement already satisfied: soupsieve==2.2.1 in c:\\users\\stefa\\.conda\\envs\\python36\\lib\\site-packages (from -r requirements.txt (line 71)) (2.2.1)\n",
      "Requirement already satisfied: spacy==2.1.0 in c:\\users\\stefa\\appdata\\roaming\\python\\python36\\site-packages (from -r requirements.txt (line 72)) (2.1.0)\n",
      "Requirement already satisfied: srsly==1.0.5 in c:\\users\\stefa\\appdata\\roaming\\python\\python36\\site-packages (from -r requirements.txt (line 73)) (1.0.5)\n",
      "Requirement already satisfied: thinc==7.0.8 in c:\\users\\stefa\\appdata\\roaming\\python\\python36\\site-packages (from -r requirements.txt (line 74)) (7.0.8)\n",
      "Requirement already satisfied: tinysegmenter==0.3 in c:\\users\\stefa\\.conda\\envs\\python36\\lib\\site-packages (from -r requirements.txt (line 75)) (0.3)\n",
      "Requirement already satisfied: tldextract==3.1.0 in c:\\users\\stefa\\.conda\\envs\\python36\\lib\\site-packages (from -r requirements.txt (line 76)) (3.1.0)\n",
      "Requirement already satisfied: toml==0.10.2 in c:\\users\\stefa\\.conda\\envs\\python36\\lib\\site-packages (from -r requirements.txt (line 77)) (0.10.2)\n",
      "Requirement already satisfied: tqdm==4.59.0 in c:\\users\\stefa\\.conda\\envs\\python36\\lib\\site-packages (from -r requirements.txt (line 78)) (4.59.0)\n",
      "Requirement already satisfied: traitlets==4.3.3 in c:\\users\\stefa\\appdata\\roaming\\python\\python36\\site-packages (from -r requirements.txt (line 79)) (4.3.3)\n",
      "Requirement already satisfied: typed-ast==1.4.2 in c:\\users\\stefa\\.conda\\envs\\python36\\lib\\site-packages (from -r requirements.txt (line 80)) (1.4.2)\n",
      "Requirement already satisfied: typing-extensions==3.7.4.3 in c:\\users\\stefa\\.conda\\envs\\python36\\lib\\site-packages (from -r requirements.txt (line 81)) (3.7.4.3)\n",
      "Requirement already satisfied: urllib3==1.26.4 in c:\\users\\stefa\\.conda\\envs\\python36\\lib\\site-packages (from -r requirements.txt (line 82)) (1.26.4)\n",
      "Requirement already satisfied: wasabi==0.8.2 in c:\\users\\stefa\\.conda\\envs\\python36\\lib\\site-packages (from -r requirements.txt (line 83)) (0.8.2)\n",
      "Requirement already satisfied: wcwidth==0.2.5 in c:\\users\\stefa\\appdata\\roaming\\python\\python36\\site-packages (from -r requirements.txt (line 84)) (0.2.5)\n",
      "Requirement already satisfied: wrapt==1.12.1 in c:\\users\\stefa\\.conda\\envs\\python36\\lib\\site-packages (from -r requirements.txt (line 85)) (1.12.1)\n",
      "Requirement already satisfied: zipp==3.4.1 in c:\\users\\stefa\\.conda\\envs\\python36\\lib\\site-packages (from -r requirements.txt (line 86)) (3.4.1)\n",
      "Requirement already satisfied: setuptools>=18.5 in c:\\users\\stefa\\.conda\\envs\\python36\\lib\\site-packages (from ipython==7.16.1->-r requirements.txt (line 24)) (40.6.3)\n"
     ]
    }
   ],
   "source": [
    "import os, sys\n",
    "!{sys.executable} -m pip install -r requirements.txt"
   ]
  },
  {
   "cell_type": "code",
   "execution_count": 1,
   "metadata": {},
   "outputs": [
    {
     "name": "stderr",
     "output_type": "stream",
     "text": [
      "C:\\Users\\Stefa\\.conda\\envs\\python36\\lib\\site-packages\\numpy\\_distributor_init.py:32: UserWarning: loaded more than 1 DLL from .libs:\n",
      "C:\\Users\\Stefa\\.conda\\envs\\python36\\lib\\site-packages\\numpy\\.libs\\libopenblas.IPBC74C7KURV7CB2PKT5Z5FNR3SIBV4J.gfortran-win_amd64.dll\n",
      "C:\\Users\\Stefa\\.conda\\envs\\python36\\lib\\site-packages\\numpy\\.libs\\libopenblas.WCDJNK7YVMPZQ2ME2ZZHJJRJ3JIKNDB7.gfortran-win_amd64.dll\n",
      "  stacklevel=1)\n"
     ]
    }
   ],
   "source": [
    "from neo4j import GraphDatabase\n",
    "from dotenv import dotenv_values\n",
    "from soup_models import Document\n",
    "from collections import defaultdict\n",
    "\n",
    "config = dotenv_values(\".env\")  # config = {\"USER\": \"foo\", \"EMAIL\": \"foo@example.org\"}"
   ]
  },
  {
   "cell_type": "code",
   "execution_count": 2,
   "metadata": {},
   "outputs": [],
   "source": [
    "from graph_driver import GraphDBDriver"
   ]
  },
  {
   "cell_type": "code",
   "execution_count": 3,
   "metadata": {},
   "outputs": [
    {
     "name": "stdout",
     "output_type": "stream",
     "text": [
      "Testing Graph Driver...\n",
      "Querying all nodes\n"
     ]
    },
    {
     "data": {
      "text/plain": [
       "{'edge': ('interacts', 'source1', 'tweet1')}"
      ]
     },
     "execution_count": 3,
     "metadata": {},
     "output_type": "execute_result"
    }
   ],
   "source": [
    "# greeter = HelloWorldExample(\"bolt://localhost:7687\", \"neo4j\", \"neo4j\")\n",
    "print(\"Testing Graph Driver...\")\n",
    "driver = GraphDBDriver()\n",
    "print(\"Querying all nodes\")\n",
    "ret = driver.query(\"MATCH ()-[edge]->() WHERE ID(edge)=2 RETURN edge\")\n",
    "res = driver.record_to_models(ret[0])\n",
    "res\n",
    "# print(\"Uploading one node\")\n",
    "# tweet1 = Document(\"tweet1\", \"title\", \"tweet\")\n",
    "# source = Source(\"source1\", \"title\", \"source\")\n",
    "# driver.upload_nodes([tweet1, source])\n",
    "# print(\"Adding connecting Edge\")\n",
    "# edge = Interacts(source, tweet1, \"follows\")\n",
    "# driver.upload_edges([edge])\n",
    "# # driver.close()\n",
    "\n",
    "# print(\"Querying single node\")\n",
    "# result = driver.query_node(tweet1)\n",
    "# print(result[0]['node'].keys())\n",
    "# result1 = driver.query_edge(edge)\n",
    "# print(result1[0]['edge'].keys())\n",
    "# # print(\"Uploading several nodes with pre-existing in database\")\n",
    "# # tweets = [tweet, Document(\"test2\", \"title\", \"tweet\"), Document(\"test3\", \"title\", \"tweet\")]\n",
    "# # # driver.upload_nodes(tweets)\n",
    "# driver.close()\n",
    "# print(\"Finished\")"
   ]
  },
  {
   "cell_type": "code",
   "execution_count": 4,
   "metadata": {},
   "outputs": [
    {
     "data": {
      "text/plain": [
       "<Record edge=<Relationship id=2 nodes=(<Node id=20 labels=frozenset() properties={}>, <Node id=19 labels=frozenset() properties={}>) type='interacts' properties={'interaction_type': 'follows', 'label': 'interacts', 'time': neo4j.time.Date(1969, 12, 31), 'dest_key': 'tweet1', 'source_key': 'source1'}>>"
      ]
     },
     "execution_count": 4,
     "metadata": {},
     "output_type": "execute_result"
    }
   ],
   "source": [
    "ret[0]"
   ]
  },
  {
   "cell_type": "code",
   "execution_count": 52,
   "metadata": {},
   "outputs": [],
   "source": [
    "nodes = driver.query(\"MATCH (n) RETURN n\")"
   ]
  },
  {
   "cell_type": "code",
   "execution_count": 53,
   "metadata": {},
   "outputs": [
    {
     "name": "stdout",
     "output_type": "stream",
     "text": [
      "[]\n",
      "[]\n",
      "[]\n",
      "[]\n"
     ]
    }
   ],
   "source": [
    "for node_type in [\"document\", \"entity\", \"action\", \"source\"]:\n",
    "    querystring = \"CREATE CONSTRAINT unique_key_{} IF NOT EXISTS ON (n:{}) ASSERT n.key IS UNIQUE\".format(node_type, node_type)\n",
    "    print(driver.query(querystring))"
   ]
  },
  {
   "cell_type": "code",
   "execution_count": 54,
   "metadata": {},
   "outputs": [
    {
     "data": {
      "text/plain": [
       "[<Record node=<Node id=16 labels=frozenset({'document'}) properties={'details': 'hello!', 'doc_type': 'tweet', 'type': 'document', 'date_processed': neo4j.time.DateTime(2021, 5, 22, 16, 42, 13.227833), 'title': 'title', 'key': 'test1'}>>]"
      ]
     },
     "execution_count": 54,
     "metadata": {},
     "output_type": "execute_result"
    }
   ],
   "source": [
    "driver.query_node(tweet)"
   ]
  },
  {
   "cell_type": "code",
   "execution_count": 55,
   "metadata": {},
   "outputs": [
    {
     "name": "stdout",
     "output_type": "stream",
     "text": [
      "test1 already exists in database\n",
      "test2 already exists in database\n",
      "test3 already exists in database\n"
     ]
    },
    {
     "data": {
      "text/plain": [
       "[]"
      ]
     },
     "execution_count": 55,
     "metadata": {},
     "output_type": "execute_result"
    }
   ],
   "source": [
    "driver.upload_nodes(tweets)"
   ]
  }
 ],
 "metadata": {
  "kernelspec": {
   "display_name": "mpython36",
   "language": "python",
   "name": "mpython36"
  },
  "language_info": {
   "codemirror_mode": {
    "name": "ipython",
    "version": 3
   },
   "file_extension": ".py",
   "mimetype": "text/x-python",
   "name": "python",
   "nbconvert_exporter": "python",
   "pygments_lexer": "ipython3",
   "version": "3.6.10"
  }
 },
 "nbformat": 4,
 "nbformat_minor": 4
}
