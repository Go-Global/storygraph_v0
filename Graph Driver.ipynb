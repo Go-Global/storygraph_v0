{
 "cells": [
  {
   "cell_type": "code",
   "execution_count": 1,
   "metadata": {},
   "outputs": [
    {
     "name": "stdout",
     "output_type": "stream",
     "text": [
      "Requirement already satisfied: astroid==2.5.1 in c:\\users\\stefa\\.conda\\envs\\python36\\lib\\site-packages (from -r requirements.txt (line 1)) (2.5.1)"
     ]
    },
    {
     "name": "stderr",
     "output_type": "stream",
     "text": [
      "  WARNING: The script tqdm.exe is installed in 'C:\\Users\\Stefa\\.conda\\envs\\python36\\Scripts' which is not on PATH.\n",
      "  Consider adding this directory to PATH or, if you prefer to suppress this warning, use --no-warn-script-location.\n",
      "  WARNING: The script nltk.exe is installed in 'C:\\Users\\Stefa\\.conda\\envs\\python36\\Scripts' which is not on PATH.\n",
      "  Consider adding this directory to PATH or, if you prefer to suppress this warning, use --no-warn-script-location.\n",
      "  WARNING: The script dotenv.exe is installed in 'C:\\Users\\Stefa\\.conda\\envs\\python36\\Scripts' which is not on PATH.\n",
      "  Consider adding this directory to PATH or, if you prefer to suppress this warning, use --no-warn-script-location.\n",
      "ERROR: pip's dependency resolver does not currently take into account all the packages that are installed. This behaviour is the source of the following dependency conflicts.\n",
      "potara 1.0.2 requires networkx==1.8.1, but you have networkx 2.5 which is incompatible.\n",
      "potara 1.0.2 requires nltk==3.4.5, but you have nltk 3.5 which is incompatible.\n",
      "potara 1.0.2 requires six==1.12.0, but you have six 1.15.0 which is incompatible.\n",
      "en-core-web-md 3.0.0 requires spacy<3.1.0,>=3.0.0, but you have spacy 2.1.0 which is incompatible.\n",
      "WARNING: You are using pip version 21.0.1; however, version 21.1.1 is available.\n",
      "You should consider upgrading via the 'C:\\Users\\Stefa\\.conda\\envs\\python36\\python.exe -m pip install --upgrade pip' command.\n"
     ]
    },
    {
     "name": "stdout",
     "output_type": "stream",
     "text": [
      "\n",
      "Requirement already satisfied: backcall==0.2.0 in c:\\users\\stefa\\appdata\\roaming\\python\\python36\\site-packages (from -r requirements.txt (line 2)) (0.2.0)\n",
      "Requirement already satisfied: beautifulsoup4==4.9.3 in c:\\users\\stefa\\.conda\\envs\\python36\\lib\\site-packages (from -r requirements.txt (line 3)) (4.9.3)\n",
      "Requirement already satisfied: blis==0.2.4 in c:\\users\\stefa\\appdata\\roaming\\python\\python36\\site-packages (from -r requirements.txt (line 4)) (0.2.4)\n",
      "Collecting boto3==1.17.62\n",
      "  Using cached boto3-1.17.62-py2.py3-none-any.whl (131 kB)\n",
      "Collecting botocore==1.20.62\n",
      "  Using cached botocore-1.20.62-py2.py3-none-any.whl (7.5 MB)\n",
      "Requirement already satisfied: certifi==2020.12.5 in c:\\users\\stefa\\.conda\\envs\\python36\\lib\\site-packages (from -r requirements.txt (line 7)) (2020.12.5)\n",
      "Requirement already satisfied: chardet==4.0.0 in c:\\users\\stefa\\.conda\\envs\\python36\\lib\\site-packages (from -r requirements.txt (line 8)) (4.0.0)\n",
      "Requirement already satisfied: click==7.1.2 in c:\\users\\stefa\\.conda\\envs\\python36\\lib\\site-packages (from -r requirements.txt (line 9)) (7.1.2)\n",
      "Requirement already satisfied: colorama==0.4.4 in c:\\users\\stefa\\appdata\\roaming\\python\\python36\\site-packages (from -r requirements.txt (line 10)) (0.4.4)\n",
      "Requirement already satisfied: cssselect==1.1.0 in c:\\users\\stefa\\.conda\\envs\\python36\\lib\\site-packages (from -r requirements.txt (line 11)) (1.1.0)\n",
      "Requirement already satisfied: cycler==0.10.0 in c:\\users\\stefa\\.conda\\envs\\python36\\lib\\site-packages (from -r requirements.txt (line 12)) (0.10.0)\n",
      "Requirement already satisfied: cymem==2.0.5 in c:\\users\\stefa\\.conda\\envs\\python36\\lib\\site-packages (from -r requirements.txt (line 13)) (2.0.5)\n",
      "Requirement already satisfied: decorator==4.4.2 in c:\\users\\stefa\\.conda\\envs\\python36\\lib\\site-packages (from -r requirements.txt (line 14)) (4.4.2)\n",
      "Requirement already satisfied: en-core-web-lg==2.1.0 in c:\\users\\stefa\\.conda\\envs\\python36\\lib\\site-packages (from -r requirements.txt (line 15)) (2.1.0)\n",
      "Requirement already satisfied: en-core-web-sm==2.1.0 in c:\\users\\stefa\\.conda\\envs\\python36\\lib\\site-packages (from -r requirements.txt (line 16)) (2.1.0)\n",
      "Requirement already satisfied: feedfinder2==0.0.4 in c:\\users\\stefa\\.conda\\envs\\python36\\lib\\site-packages (from -r requirements.txt (line 17)) (0.0.4)\n",
      "Collecting feedparser==6.0.2\n",
      "  Using cached feedparser-6.0.2-py3-none-any.whl (80 kB)\n",
      "Requirement already satisfied: filelock==3.0.12 in c:\\users\\stefa\\.conda\\envs\\python36\\lib\\site-packages (from -r requirements.txt (line 19)) (3.0.12)\n",
      "Requirement already satisfied: gdelt==0.1.10.5.3 in c:\\users\\stefa\\.conda\\envs\\python36\\lib\\site-packages (from -r requirements.txt (line 20)) (0.1.10.5.3)\n",
      "Requirement already satisfied: idna==2.10 in c:\\users\\stefa\\.conda\\envs\\python36\\lib\\site-packages (from -r requirements.txt (line 21)) (2.10)\n",
      "Requirement already satisfied: importlib-metadata==3.7.3 in c:\\users\\stefa\\.conda\\envs\\python36\\lib\\site-packages (from -r requirements.txt (line 22)) (3.7.3)\n",
      "Requirement already satisfied: ipython==7.16.1 in c:\\users\\stefa\\appdata\\roaming\\python\\python36\\site-packages (from -r requirements.txt (line 23)) (7.16.1)\n",
      "Requirement already satisfied: ipython-genutils==0.2.0 in c:\\users\\stefa\\appdata\\roaming\\python\\python36\\site-packages (from -r requirements.txt (line 24)) (0.2.0)\n",
      "Requirement already satisfied: isort==5.7.0 in c:\\users\\stefa\\.conda\\envs\\python36\\lib\\site-packages (from -r requirements.txt (line 25)) (5.7.0)\n",
      "Requirement already satisfied: jedi==0.18.0 in c:\\users\\stefa\\appdata\\roaming\\python\\python36\\site-packages (from -r requirements.txt (line 26)) (0.18.0)\n",
      "Requirement already satisfied: jieba3k==0.35.1 in c:\\users\\stefa\\.conda\\envs\\python36\\lib\\site-packages (from -r requirements.txt (line 27)) (0.35.1)\n",
      "Requirement already satisfied: Jinja2==2.11.3 in c:\\users\\stefa\\.conda\\envs\\python36\\lib\\site-packages (from -r requirements.txt (line 28)) (2.11.3)\n",
      "Requirement already satisfied: jmespath==0.10.0 in c:\\users\\stefa\\.conda\\envs\\python36\\lib\\site-packages (from -r requirements.txt (line 29)) (0.10.0)\n",
      "Collecting joblib==1.0.1\n",
      "  Using cached joblib-1.0.1-py3-none-any.whl (303 kB)\n",
      "Requirement already satisfied: jsonpickle==2.0.0 in c:\\users\\stefa\\.conda\\envs\\python36\\lib\\site-packages (from -r requirements.txt (line 31)) (2.0.0)\n",
      "Requirement already satisfied: jsonschema==2.6.0 in c:\\users\\stefa\\appdata\\roaming\\python\\python36\\site-packages (from -r requirements.txt (line 32)) (2.6.0)\n",
      "Requirement already satisfied: kiwisolver==1.3.1 in c:\\users\\stefa\\.conda\\envs\\python36\\lib\\site-packages (from -r requirements.txt (line 33)) (1.3.1)\n",
      "Requirement already satisfied: lazy-object-proxy==1.5.2 in c:\\users\\stefa\\.conda\\envs\\python36\\lib\\site-packages (from -r requirements.txt (line 34)) (1.5.2)\n",
      "Collecting lxml==4.6.3\n",
      "  Using cached lxml-4.6.3-cp36-cp36m-win_amd64.whl (3.5 MB)\n",
      "Requirement already satisfied: MarkupSafe==1.1.1 in c:\\users\\stefa\\.conda\\envs\\python36\\lib\\site-packages (from -r requirements.txt (line 36)) (1.1.1)\n",
      "Requirement already satisfied: matplotlib==3.3.4 in c:\\users\\stefa\\.conda\\envs\\python36\\lib\\site-packages (from -r requirements.txt (line 37)) (3.3.4)\n",
      "Requirement already satisfied: mccabe==0.6.1 in c:\\users\\stefa\\appdata\\roaming\\python\\python36\\site-packages (from -r requirements.txt (line 38)) (0.6.1)\n",
      "Requirement already satisfied: murmurhash==1.0.5 in c:\\users\\stefa\\.conda\\envs\\python36\\lib\\site-packages (from -r requirements.txt (line 39)) (1.0.5)\n",
      "Collecting neo4j==4.2.1\n",
      "  Using cached neo4j-4.2.1.tar.gz (69 kB)\n",
      "Requirement already satisfied: networkx==2.5 in c:\\users\\stefa\\.conda\\envs\\python36\\lib\\site-packages (from -r requirements.txt (line 41)) (2.5)\n",
      "Requirement already satisfied: neuralcoref==4.0 in c:\\users\\stefa\\.conda\\envs\\python36\\lib\\site-packages (from -r requirements.txt (line 42)) (4.0)\n",
      "Requirement already satisfied: newspaper3k==0.2.8 in c:\\users\\stefa\\.conda\\envs\\python36\\lib\\site-packages (from -r requirements.txt (line 43)) (0.2.8)\n",
      "Collecting nltk==3.5\n",
      "  Using cached nltk-3.5-py3-none-any.whl\n",
      "Requirement already satisfied: numpy==1.19.5 in c:\\users\\stefa\\.conda\\envs\\python36\\lib\\site-packages (from -r requirements.txt (line 45)) (1.19.5)\n",
      "Requirement already satisfied: pandas==1.1.5 in c:\\users\\stefa\\.conda\\envs\\python36\\lib\\site-packages (from -r requirements.txt (line 46)) (1.1.5)\n",
      "Requirement already satisfied: parso==0.8.1 in c:\\users\\stefa\\.conda\\envs\\python36\\lib\\site-packages (from -r requirements.txt (line 47)) (0.8.1)\n",
      "Requirement already satisfied: pickleshare==0.7.5 in c:\\users\\stefa\\appdata\\roaming\\python\\python36\\site-packages (from -r requirements.txt (line 48)) (0.7.5)\n",
      "Requirement already satisfied: Pillow==8.1.2 in c:\\users\\stefa\\.conda\\envs\\python36\\lib\\site-packages (from -r requirements.txt (line 49)) (8.1.2)\n",
      "Requirement already satisfied: plac==0.9.6 in c:\\users\\stefa\\appdata\\roaming\\python\\python36\\site-packages (from -r requirements.txt (line 50)) (0.9.6)\n",
      "Requirement already satisfied: preshed==2.0.1 in c:\\users\\stefa\\appdata\\roaming\\python\\python36\\site-packages (from -r requirements.txt (line 51)) (2.0.1)\n",
      "Requirement already satisfied: prompt-toolkit==3.0.17 in c:\\users\\stefa\\.conda\\envs\\python36\\lib\\site-packages (from -r requirements.txt (line 52)) (3.0.17)\n",
      "Requirement already satisfied: Pygments==2.8.1 in c:\\users\\stefa\\appdata\\roaming\\python\\python36\\site-packages (from -r requirements.txt (line 53)) (2.8.1)\n",
      "Requirement already satisfied: pylint==2.7.2 in c:\\users\\stefa\\.conda\\envs\\python36\\lib\\site-packages (from -r requirements.txt (line 54)) (2.7.2)\n",
      "Requirement already satisfied: pymongo==3.11.3 in c:\\users\\stefa\\.conda\\envs\\python36\\lib\\site-packages (from -r requirements.txt (line 55)) (3.11.3)\n",
      "Requirement already satisfied: pyparsing==2.4.7 in c:\\users\\stefa\\.conda\\envs\\python36\\lib\\site-packages (from -r requirements.txt (line 56)) (2.4.7)\n",
      "Requirement already satisfied: python-dateutil==2.8.1 in c:\\users\\stefa\\appdata\\roaming\\python\\python36\\site-packages (from -r requirements.txt (line 57)) (2.8.1)\n",
      "Collecting python-dotenv==0.17.1\n",
      "  Using cached python_dotenv-0.17.1-py2.py3-none-any.whl (18 kB)\n",
      "Requirement already satisfied: pytz==2021.1 in c:\\users\\stefa\\.conda\\envs\\python36\\lib\\site-packages (from -r requirements.txt (line 59)) (2021.1)\n",
      "Requirement already satisfied: pyvis==0.1.9 in c:\\users\\stefa\\.conda\\envs\\python36\\lib\\site-packages (from -r requirements.txt (line 60)) (0.1.9)\n",
      "Collecting PyYAML==5.4.1\n",
      "  Using cached PyYAML-5.4.1-cp36-cp36m-win_amd64.whl (209 kB)\n",
      "Collecting regex==2021.3.17\n",
      "  Using cached regex-2021.3.17-cp36-cp36m-win_amd64.whl (270 kB)\n",
      "Requirement already satisfied: requests==2.25.1 in c:\\users\\stefa\\.conda\\envs\\python36\\lib\\site-packages (from -r requirements.txt (line 63)) (2.25.1)\n",
      "Requirement already satisfied: requests-file==1.5.1 in c:\\users\\stefa\\.conda\\envs\\python36\\lib\\site-packages (from -r requirements.txt (line 64)) (1.5.1)\n",
      "Collecting s3transfer==0.4.2\n",
      "  Using cached s3transfer-0.4.2-py2.py3-none-any.whl (79 kB)\n",
      "Requirement already satisfied: sgmllib3k==1.0.0 in c:\\users\\stefa\\.conda\\envs\\python36\\lib\\site-packages (from -r requirements.txt (line 66)) (1.0.0)\n",
      "Requirement already satisfied: six==1.15.0 in c:\\users\\stefa\\.conda\\envs\\python36\\lib\\site-packages (from -r requirements.txt (line 67)) (1.15.0)\n",
      "Collecting soupsieve==2.2.1\n",
      "  Using cached soupsieve-2.2.1-py3-none-any.whl (33 kB)\n",
      "Requirement already satisfied: spacy==2.1.0 in c:\\users\\stefa\\appdata\\roaming\\python\\python36\\site-packages (from -r requirements.txt (line 69)) (2.1.0)\n"
     ]
    },
    {
     "name": "stdout",
     "output_type": "stream",
     "text": [
      "Requirement already satisfied: srsly==1.0.5 in c:\\users\\stefa\\appdata\\roaming\\python\\python36\\site-packages (from -r requirements.txt (line 70)) (1.0.5)\n",
      "Requirement already satisfied: thinc==7.0.8 in c:\\users\\stefa\\appdata\\roaming\\python\\python36\\site-packages (from -r requirements.txt (line 71)) (7.0.8)\n",
      "Requirement already satisfied: tinysegmenter==0.3 in c:\\users\\stefa\\.conda\\envs\\python36\\lib\\site-packages (from -r requirements.txt (line 72)) (0.3)\n",
      "Requirement already satisfied: tldextract==3.1.0 in c:\\users\\stefa\\.conda\\envs\\python36\\lib\\site-packages (from -r requirements.txt (line 73)) (3.1.0)\n",
      "Requirement already satisfied: toml==0.10.2 in c:\\users\\stefa\\.conda\\envs\\python36\\lib\\site-packages (from -r requirements.txt (line 74)) (0.10.2)\n",
      "Collecting tqdm==4.59.0\n",
      "  Using cached tqdm-4.59.0-py2.py3-none-any.whl (74 kB)\n",
      "Requirement already satisfied: traitlets==4.3.3 in c:\\users\\stefa\\appdata\\roaming\\python\\python36\\site-packages (from -r requirements.txt (line 76)) (4.3.3)\n",
      "Requirement already satisfied: typed-ast==1.4.2 in c:\\users\\stefa\\.conda\\envs\\python36\\lib\\site-packages (from -r requirements.txt (line 77)) (1.4.2)\n",
      "Requirement already satisfied: typing-extensions==3.7.4.3 in c:\\users\\stefa\\.conda\\envs\\python36\\lib\\site-packages (from -r requirements.txt (line 78)) (3.7.4.3)\n",
      "Collecting urllib3==1.26.4\n",
      "  Using cached urllib3-1.26.4-py2.py3-none-any.whl (153 kB)\n",
      "Requirement already satisfied: wasabi==0.8.2 in c:\\users\\stefa\\.conda\\envs\\python36\\lib\\site-packages (from -r requirements.txt (line 80)) (0.8.2)\n",
      "Requirement already satisfied: wcwidth==0.2.5 in c:\\users\\stefa\\appdata\\roaming\\python\\python36\\site-packages (from -r requirements.txt (line 81)) (0.2.5)\n",
      "Requirement already satisfied: wrapt==1.12.1 in c:\\users\\stefa\\.conda\\envs\\python36\\lib\\site-packages (from -r requirements.txt (line 82)) (1.12.1)\n",
      "Requirement already satisfied: zipp==3.4.1 in c:\\users\\stefa\\.conda\\envs\\python36\\lib\\site-packages (from -r requirements.txt (line 83)) (3.4.1)\n",
      "Requirement already satisfied: setuptools>=18.5 in c:\\users\\stefa\\.conda\\envs\\python36\\lib\\site-packages (from ipython==7.16.1->-r requirements.txt (line 23)) (40.6.3)\n",
      "Building wheels for collected packages: neo4j\n",
      "  Building wheel for neo4j (setup.py): started\n",
      "  Building wheel for neo4j (setup.py): finished with status 'done'\n",
      "  Created wheel for neo4j: filename=neo4j-4.2.1-py3-none-any.whl size=95191 sha256=b771726e6fea86ed5a1774fbb58cac963ee8daed09a01b0481c2ac96eceea02b\n",
      "  Stored in directory: c:\\users\\stefa\\appdata\\local\\pip\\cache\\wheels\\e5\\2f\\1a\\6500122f1df4f7a2f15041cd9e2102a4fb225ef8ce8516448a\n",
      "Successfully built neo4j\n",
      "Installing collected packages: urllib3, tqdm, soupsieve, botocore, s3transfer, regex, joblib, PyYAML, nltk, lxml, feedparser, boto3, python-dotenv, neo4j\n",
      "  Attempting uninstall: urllib3\n",
      "    Found existing installation: urllib3 1.25.11\n",
      "    Uninstalling urllib3-1.25.11:\n",
      "      Successfully uninstalled urllib3-1.25.11\n",
      "  Attempting uninstall: tqdm\n",
      "    Found existing installation: tqdm 4.48.2\n",
      "    Uninstalling tqdm-4.48.2:\n",
      "      Successfully uninstalled tqdm-4.48.2\n",
      "  Attempting uninstall: soupsieve\n",
      "    Found existing installation: soupsieve 2.0.1\n",
      "    Uninstalling soupsieve-2.0.1:\n",
      "      Successfully uninstalled soupsieve-2.0.1\n",
      "  Attempting uninstall: botocore\n",
      "    Found existing installation: botocore 1.17.53\n",
      "    Uninstalling botocore-1.17.53:\n",
      "      Successfully uninstalled botocore-1.17.53\n",
      "  Attempting uninstall: s3transfer\n",
      "    Found existing installation: s3transfer 0.3.3\n",
      "    Uninstalling s3transfer-0.3.3:\n",
      "      Successfully uninstalled s3transfer-0.3.3\n",
      "  Attempting uninstall: regex\n",
      "    Found existing installation: regex 2020.7.14\n",
      "    Uninstalling regex-2020.7.14:\n",
      "      Successfully uninstalled regex-2020.7.14\n",
      "  Attempting uninstall: joblib\n",
      "    Found existing installation: joblib 0.16.0\n",
      "    Uninstalling joblib-0.16.0:\n",
      "      Successfully uninstalled joblib-0.16.0\n",
      "  Attempting uninstall: PyYAML\n",
      "    Found existing installation: PyYAML 5.3.1\n",
      "    Uninstalling PyYAML-5.3.1:\n",
      "      Successfully uninstalled PyYAML-5.3.1\n",
      "  Attempting uninstall: nltk\n",
      "    Found existing installation: nltk 3.4.5\n",
      "    Uninstalling nltk-3.4.5:\n",
      "      Successfully uninstalled nltk-3.4.5\n",
      "  Attempting uninstall: lxml\n",
      "    Found existing installation: lxml 4.5.2\n",
      "    Uninstalling lxml-4.5.2:\n",
      "      Successfully uninstalled lxml-4.5.2\n",
      "  Attempting uninstall: feedparser\n",
      "    Found existing installation: feedparser 6.0.1\n",
      "    Uninstalling feedparser-6.0.1:\n",
      "      Successfully uninstalled feedparser-6.0.1\n",
      "  Attempting uninstall: boto3\n",
      "    Found existing installation: boto3 1.14.53\n",
      "    Uninstalling boto3-1.14.53:\n",
      "      Successfully uninstalled boto3-1.14.53\n",
      "  Attempting uninstall: python-dotenv\n",
      "    Found existing installation: python-dotenv 0.14.0\n",
      "    Uninstalling python-dotenv-0.14.0:\n",
      "      Successfully uninstalled python-dotenv-0.14.0\n",
      "Successfully installed PyYAML-5.4.1 boto3-1.17.62 botocore-1.20.62 feedparser-6.0.2 joblib-1.0.1 lxml-4.6.3 neo4j-4.2.1 nltk-3.5 python-dotenv-0.17.1 regex-2021.3.17 s3transfer-0.4.2 soupsieve-2.2.1 tqdm-4.59.0 urllib3-1.26.4\n"
     ]
    }
   ],
   "source": [
    "import os, sys\n",
    "!{sys.executable} -m pip install -r requirements.txt"
   ]
  },
  {
   "cell_type": "code",
   "execution_count": 2,
   "metadata": {},
   "outputs": [
    {
     "name": "stderr",
     "output_type": "stream",
     "text": [
      "C:\\Users\\Stefa\\.conda\\envs\\python36\\lib\\site-packages\\numpy\\_distributor_init.py:32: UserWarning: loaded more than 1 DLL from .libs:\n",
      "C:\\Users\\Stefa\\.conda\\envs\\python36\\lib\\site-packages\\numpy\\.libs\\libopenblas.IPBC74C7KURV7CB2PKT5Z5FNR3SIBV4J.gfortran-win_amd64.dll\n",
      "C:\\Users\\Stefa\\.conda\\envs\\python36\\lib\\site-packages\\numpy\\.libs\\libopenblas.WCDJNK7YVMPZQ2ME2ZZHJJRJ3JIKNDB7.gfortran-win_amd64.dll\n",
      "  stacklevel=1)\n"
     ]
    }
   ],
   "source": [
    "from neo4j import GraphDatabase\n",
    "from dotenv import dotenv_values\n",
    "from soup_models import Document\n",
    "from collections import defaultdict\n",
    "\n",
    "config = dotenv_values(\".env\")  # config = {\"USER\": \"foo\", \"EMAIL\": \"foo@example.org\"}"
   ]
  },
  {
   "cell_type": "code",
   "execution_count": 49,
   "metadata": {},
   "outputs": [],
   "source": [
    "class GraphDBDriver:\n",
    "    \"\"\"\n",
    "    Main methods:\n",
    "        query_node_dict: Query database by a node dictionary\n",
    "        query: makes a direct cypher query\n",
    "        upload_nodes: Upload an iterable of nodes to the database\n",
    "\n",
    "    \"\"\"\n",
    "    def __init__(self, uri=config[\"LOCAL_GRAPH_URI\"], user=config[\"LOCAL_GRAPH_USER\"], password=config[\"LOCAL_GRAPH_PWD\"]):\n",
    "        try:\n",
    "            self.driver = GraphDatabase.driver(uri, auth=(user, password))\n",
    "        except Exception as e:\n",
    "            print(\"Failed to create the driver:\", e)\n",
    "        # self.driver = GraphDatabase.driver(uri, auth=(user, password))\n",
    "\n",
    "    def close(self):\n",
    "        if self.driver:\n",
    "            self.driver.close()\n",
    "\n",
    "    # def upload_test(self):\n",
    "    #     assert self.driver, \"Driver not initialized!\"\n",
    "    #     with self.driver.session() as session:\n",
    "    #         return session.write_transaction(self._create_node, self._node_dict_to_cypher({'type': \"Document\", 'title': \"test1\"}))\n",
    "\n",
    "    # Query Methods\n",
    "    def query_node_dict(self, node_dict):\n",
    "        return self.query(\"MATCH \" + self._node_dict_to_cypher(node_dict) + \" RETURN node\")\n",
    "    \n",
    "    def query_node(self, node):\n",
    "#         print(\"MATCH (node:{} {{key: \\\"{}\\\"}}) RETURN node\".format(node.type, node.key))\n",
    "        return self.query(\"MATCH (node:{} {{key: \\\"{}\\\"}}) RETURN node\".format(node.type, node.key))\n",
    "\n",
    "    def query(self, query, db=None):\n",
    "        assert self.driver, \"Driver not initialized!\"\n",
    "        session = None\n",
    "        response = None\n",
    "        try: \n",
    "            session = self.driver.session(database=db) if db is not None else self.driver.session() \n",
    "            response = list(session.run(query))\n",
    "        except Exception as e:\n",
    "            print(\"Query failed:\", e)\n",
    "        finally: \n",
    "            if session:\n",
    "                session.close()\n",
    "        return response\n",
    "\n",
    "    # Upload Methods\n",
    "    def upload_nodes(self, nodes):\n",
    "        assert self.driver, \"Driver not initialized!\"\n",
    "        with self.driver.session() as session:\n",
    "            ret = []\n",
    "            for node in nodes:\n",
    "                exists = list(session.run(\"MATCH (node:{} {{key: \\\"{}\\\"}}) RETURN node\".format(node.type, node.key)))\n",
    "                if len(exists) == 0:\n",
    "                    # assert type(doc) == Document , \"Error: non-Document node passed to doc upload function\"\n",
    "                    ret.append(session.write_transaction(self._create_and_return_node, node.to_dict()))\n",
    "                    print(\"Uploaded\", ret[-1])\n",
    "                else:\n",
    "                    print(node.key, \"already exists in database\")\n",
    "            return ret\n",
    "\n",
    "    @staticmethod\n",
    "    def _create_and_return_node(tx, node_dict):\n",
    "        cypherquery = [\"CREATE (node:{})\".format(node_dict['type'])]\n",
    "        for key in node_dict.keys():\n",
    "            cypherquery.append(\"SET node.{} = ${}\".format(key, key))\n",
    "        cypherquery.append(\"RETURN node.title + ' at ID:' + id(node)\")\n",
    "#         print(\" \".join(cypherquery))\n",
    "        result = tx.run(\" \".join(cypherquery), node_dict)\n",
    "        return result.single()[0]\n",
    "\n",
    "    # Helper Methods\n",
    "    \"\"\"\n",
    "    Converts a node in dictionary form to a cypher create query\n",
    "    \"\"\"\n",
    "    @staticmethod\n",
    "    def _node_dict_to_cypher(node, name=\"node\"):\n",
    "        assert type(node) in [dict, defaultdict]\n",
    "        query = \"({}:{} {{\".format(name, node['type'])\n",
    "        properties = []\n",
    "        for key, value in node.items():\n",
    "            properties.append(\"{}:\\\"{}\\\"\".format(key, value))\n",
    "        props = \", \".join(properties)\n",
    "        end_query = \"})\"\n",
    "        return query + props + end_query"
   ]
  },
  {
   "cell_type": "code",
   "execution_count": 50,
   "metadata": {},
   "outputs": [],
   "source": [
    "# greeter = HelloWorldExample(\"bolt://localhost:7687\", \"neo4j\", \"neo4j\")\n",
    "driver = GraphDBDriver(config[\"LOCAL_GRAPH_URI\"], config[\"LOCAL_GRAPH_USER\"], config[\"LOCAL_GRAPH_PWD\"])\n",
    "# driver.upload_doc(\"hello, world\")\n",
    "# driver.upload_docs([{'type': \"document\", 'title': \"test1\"}])\n",
    "# print(driver.query(\"MATCH (n) return n\"))\n",
    "# print(driver.query_node_dict({'type': \"document\", 'title': \"test1\"}))\n",
    "# print(driver._node_dict_to_cypher({'type': \"document\", 'title': \"test1\"}))\n",
    "# print(driver.upload_test())\n",
    "# driver.close()"
   ]
  },
  {
   "cell_type": "code",
   "execution_count": 51,
   "metadata": {},
   "outputs": [],
   "source": [
    "tweets = [Document(\"test1\", \"title\", \"tweet\"), Document(\"test2\", \"title\", \"tweet\"), Document(\"test3\", \"title\", \"tweet\")]\n",
    "# tweet.attrs[\"details\"] = \"hello!\"\n",
    "# driver.upload_nodes([tweet])"
   ]
  },
  {
   "cell_type": "code",
   "execution_count": 52,
   "metadata": {},
   "outputs": [],
   "source": [
    "nodes = driver.query(\"MATCH (n) RETURN n\")"
   ]
  },
  {
   "cell_type": "code",
   "execution_count": 53,
   "metadata": {},
   "outputs": [
    {
     "name": "stdout",
     "output_type": "stream",
     "text": [
      "[]\n",
      "[]\n",
      "[]\n",
      "[]\n"
     ]
    }
   ],
   "source": [
    "for node_type in [\"document\", \"entity\", \"action\", \"source\"]:\n",
    "    querystring = \"CREATE CONSTRAINT unique_key_{} IF NOT EXISTS ON (n:{}) ASSERT n.key IS UNIQUE\".format(node_type, node_type)\n",
    "    print(driver.query(querystring))"
   ]
  },
  {
   "cell_type": "code",
   "execution_count": 54,
   "metadata": {},
   "outputs": [
    {
     "data": {
      "text/plain": [
       "[<Record node=<Node id=16 labels=frozenset({'document'}) properties={'details': 'hello!', 'doc_type': 'tweet', 'type': 'document', 'date_processed': neo4j.time.DateTime(2021, 5, 22, 16, 42, 13.227833), 'title': 'title', 'key': 'test1'}>>]"
      ]
     },
     "execution_count": 54,
     "metadata": {},
     "output_type": "execute_result"
    }
   ],
   "source": [
    "driver.query_node(tweet)"
   ]
  },
  {
   "cell_type": "code",
   "execution_count": 55,
   "metadata": {},
   "outputs": [
    {
     "name": "stdout",
     "output_type": "stream",
     "text": [
      "test1 already exists in database\n",
      "test2 already exists in database\n",
      "test3 already exists in database\n"
     ]
    },
    {
     "data": {
      "text/plain": [
       "[]"
      ]
     },
     "execution_count": 55,
     "metadata": {},
     "output_type": "execute_result"
    }
   ],
   "source": [
    "driver.upload_nodes(tweets)"
   ]
  }
 ],
 "metadata": {
  "kernelspec": {
   "display_name": "mpython36",
   "language": "python",
   "name": "mpython36"
  },
  "language_info": {
   "codemirror_mode": {
    "name": "ipython",
    "version": 3
   },
   "file_extension": ".py",
   "mimetype": "text/x-python",
   "name": "python",
   "nbconvert_exporter": "python",
   "pygments_lexer": "ipython3",
   "version": "3.6.10"
  }
 },
 "nbformat": 4,
 "nbformat_minor": 4
}
