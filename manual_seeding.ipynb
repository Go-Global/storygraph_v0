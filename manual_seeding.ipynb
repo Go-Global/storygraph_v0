{
 "cells": [
  {
   "cell_type": "code",
   "execution_count": 110,
   "metadata": {},
   "outputs": [
    {
     "data": {
      "text/plain": [
       "['investing.txt',\n",
       " 'marketwatch.txt',\n",
       " 'marketwatch_parse.txt',\n",
       " 'motleyfool.txt',\n",
       " 'schaeffers.txt']"
      ]
     },
     "execution_count": 110,
     "metadata": {},
     "output_type": "execute_result"
    }
   ],
   "source": [
    "import os\n",
    "os.listdir(\"../lyft_stock\")"
   ]
  },
  {
   "cell_type": "code",
   "execution_count": 136,
   "metadata": {},
   "outputs": [
    {
     "data": {
      "text/plain": [
       "98"
      ]
     },
     "execution_count": 136,
     "metadata": {},
     "output_type": "execute_result"
    }
   ],
   "source": [
    "with open('../lyft_stock/marketwatch_parse.txt') as f:\n",
    "    lines = [l.strip() for l in f.readlines() if len(l.strip()) > 0]\n",
    "len(lines)"
   ]
  },
  {
   "cell_type": "code",
   "execution_count": 137,
   "metadata": {},
   "outputs": [],
   "source": [
    "assert \"Entities:\" in lines, \"Error: did not find 'Entities:' header\"\n",
    "assert \"Interactions:\" in lines, \"Error: did not find 'Interactions:' header\"\n",
    "idx = lines.index(\"Interactions:\")\n",
    "entity_lines = lines[1:idx]\n",
    "interaction_lines = lines[idx + 1:]\n",
    "# print(interaction_lines)"
   ]
  },
  {
   "cell_type": "code",
   "execution_count": 138,
   "metadata": {},
   "outputs": [
    {
     "name": "stdout",
     "output_type": "stream",
     "text": [
      "{'pandemic,': ['pandemic', 'COVID-19 pandemic'], 'uber,': ['company', 'Uber', 'companies', 'Uber Technologies inc.'], 'lyft,': ['Lyft', 'Lyft Int.', 'rival Lyft', 'companies'], 'consistent lane,': [''], 'earnings preview,': ['fourth quarter results'], 'ride-hailing,': ['ride-hailing environment', 'ride-hailing', 'ride-hailing industry'], 'fourth quarter,': ['fourth quarter'], 'omicron surge,': ['COVID-19 omicron surge'], 'two years': [], 'stability': [], 'Analyst data': [], 'rides': [], 'travel': [], 'US ride-hailing volume': [], 'YipitData analysis': [], 'Raymond James & Associates': ['', 'Raymond James analysts'], \"Uber's fourth quarter bookings\": [], \"Lyft's daily active users\": [], 'driver supply': [], 'New Year': [], 'incentives': ['incentives'], 'status of food delivery': [], \"Uber's Eats division\": ['business', 'Eats'], 'analysts': ['analysts'], 'FactSet': ['FactSet'], 'Estimize': ['Estimize'], 'hedge-fund managers': [], 'executives': [], 'Uber stock': ['Uber shares'], 'Lyft stock': ['Lyft shares'], 'S&P 500': [], 'earnings': ['earnings', 'adjusted earnings'], 'revenue': []}\n"
     ]
    }
   ],
   "source": [
    "def parse_entities(entity_lines):\n",
    "    ent_map = dict()\n",
    "    for line in entity_lines:\n",
    "        if '[' in line:\n",
    "            ent, contents = line.split('[')\n",
    "            contents = [c.strip() for c in contents[:-1].split(',')]\n",
    "        else:\n",
    "            ent, contents = line, []\n",
    "        assert ent.strip() not in ent_map.keys(), f\"Error: entity {ent} already exists in entity map\"\n",
    "        ent_map[ent.strip()] = list(set(contents))\n",
    "    return ent_map\n",
    "entities = parse_entities(entity_lines)\n",
    "print(entities)"
   ]
  },
  {
   "cell_type": "code",
   "execution_count": null,
   "metadata": {},
   "outputs": [],
   "source": []
  },
  {
   "cell_type": "code",
   "execution_count": 141,
   "metadata": {},
   "outputs": [
    {
     "name": "stdout",
     "output_type": "stream",
     "text": [
      "[('Uber', 'looking'), ('Lyft', 'looking'), ('consistent', 'lane'), ('looking', 'lane'), ('two years into the pandemic', 'looking'), ('omicron surge', 'knock'), ('Ride-hailing', 'bounced back'), ('thought to have in fourth quarter', 'bounced back'), ('knock', 'bounced back'), ('off course', 'knock'), ('could', 'knock'), ('Ride-hailing', 'seeking'), ('seeking', 'stability'), ('still', 'seeking'), ('nearly two years into pandemic', 'seeking'), ('Uber', 'release'), ('Lyft', 'release'), ('release', 'earnings preview'), ('scheduled', 'release'), ('next week', 'release'), ('earnings preview', 'show how'), ('companies', 'dealing with'), ('continuously changing', 'ride-hailing environment'), ('dealing with', 'ride-hailing environment'), ('show how', 'dealing with'), ('Lyft', 'report'), ('on Tuesday afternoon', 'report'), ('Uber', 'reports'), ('on Wednesday', 'reports'), ('Analyst data', 'showed'), ('continue', 'recovery'), ('showed', 'recovery'), ('showed', 'in rides & travel'), ('showed', 'end of 2021)'), ('continue', 'recovery'), ('recovery', 'contrasts'), ('in rides & travel', 'contrasts'), ('end of 2021)', 'contrasts'), ('down 40% over the past two years', 'US ride-hailing volume'), ('contrasts', 'US ride-hailing volume'), ('by Yipit Dat', 'Analysis'), ('Analysis', 'alleges'), ('based on email receipts)', 'alleges'), ('US ride-hailing volume', 'down'), ('40% over the past two years', 'down'), ('alleges', 'down'), ('Raymond James & Associates', 'estimate'), ('Uber fourth-quarter', 'bookings'), ('bookings', 'rose'), ('54%', 'rose'), ('estimate', 'rose'), ('Lyft daily active users', 'grew'), ('grew', '41%'), ('analysts', 'looking for what'), ('companies', 'say'), ('say', 'about driver supply'), ('looking for what', 'say'), ('driver supply', 'improved'), ('in third quarter', 'improved'), ('omicron surge', 'affected'), ('affected', 'driver supply'), ('in fourth quarter', 'affected'), ('into the new year', 'affected'), ('Uber', 'offered'), ('Lyft', 'offered'), ('offered', 'incentives'), ('during pandemic', 'offered'), ('Uber', 'reducing or stopping'), ('Lyft', 'reducing or stopping'), ('reducing or stopping', 'incentives'), ('status of food delivery', 'changing'), ('affects', 'Uber'), ('changing', 'affects'), (\"Eat's division\", 'helped'), ('helped', 'Uber'), ('lockdowns', 'caused'), ('demand for rides', 'plummeted'), ('caused', 'plummeted'), (\"Eat's division\", 'grown into'), ('revenue exceeds rides', 'business'), ('grown into', 'business'), ('analysts', 'watching'), ('Uber', 'says about how'), ('slowing', 'delivery growth'), ('delivery growth', 'affect'), (\"Uber's\", 'bottom line'), ('affect', 'bottom line'), ('says about how', 'affect'), ('watching', 'says about how'), ('slowdown', 'growth'), ('Truist Securities', 'expect'), (\"Eat's gross bookings\", 'exceed'), ('exceed', 'rides bookings'), ('in 2022', 'exceed'), ('expect', 'exceed'), ('FactSet', 'alleges'), ('analysts', 'expect'), ('Uber', 'post'), ('post', 'ajusted loss of 30 cents a share'), ('expect', 'post'), ('alleges', 'expect'), ('Estimize', 'gathers'), ('from analyst', 'estimates'), ('gathers', 'estimates'), ('gathers', 'hedge-fund managers'), ('gathers', 'executives'), ('gathers', 'others)'), ('Estimize', 'expects'), ('Uber', 'post'), ('20 cents a share', 'loss'), ('post', 'loss'), ('expects', 'post'), ('FactSet', 'alleges'), ('analysts', 'expect'), ('$5.35 billion', 'revenue'), ('expect', 'revenue'), ('alleges', 'expect'), ('Estimize', 'guiding for'), ('$5.41 billion', 'revenue'), ('guiding for', 'revenue'), ('Uber stock', 'fallen'), ('after reporting earnings', 'fallen'), ('in two of the past four quarters', 'fallen'), ('five of the 11 reports it has made since going public', 'fallen'), ('Uber shares', 'down'), ('4.7%', ''), ('down', ''), ('S&P 500', 'lost'), ('5.2%', ''), ('lost', ''), ('FactSet', 'alleges'), ('analysts', 'expect'), ('Lyft', 'post'), ('8 cents a share', 'adjusted earnings'), ('post', 'adjusted earnings'), ('expect', 'post'), ('on average', 'expect'), ('alleges', 'expect'), ('Estimize', 'expects'), ('8 cents a share', 'earnings'), ('expects', 'earnings'), ('FactSet', 'alleges'), ('analysts', 'expect'), ('$940.1 million', 'revenue'), ('expect', 'revenue'), ('on average', 'expect'), ('alleges', 'expect'), ('Estimize guidance', 'is'), ('is', '944.4 million'), ('Lyft stock', 'fallen'), ('after reporting earnings in two of the past four quarter', ''), ('fallen', ''), ('fallen', 'and 6 of the 11 reports it has made since going public)'), ('Lyft shares', 'fallen'), ('4%', 'fallen'), ('this year through Friday', 'fallen'), ('analysts', 'bullish'), ('bullish', 'ride-hailing'), ('analysts', 'optimistic'), ('optimistic', 'Uber'), ('analysts', 'optimistic'), ('optimistic', 'Lyft'), ('slightly less so', 'optimistic'), ('Truist', 'expect'), ('Uber', 'show'), ('sustained positive adjusted in 4Q21', 'Ebitda'), ('show', 'Ebitda'), ('expect', 'show'), ('Uber', 'achieving'), ('achieving', 'Ebitda profitability'), ('in the fourth quarter', 'achieving'), ('Truist', 'expect'), ('Lyft', 'maintain'), ('positive', 'Ebitda'), ('maintain', 'Ebitda'), ('in the second and third quarters of 2021', 'maintain'), ('expect', 'maintain'), ('Raymond James analysts', 'expect'), ('solid overal', 'bookings'), ('expect', 'bookings'), ('expect', 'for Uber)'), ('acquisitions over the last year', 'causes'), ('causes', 'solid overall bookings for Uber'), ('Raymond James analysts', 'expect'), ('mid-to-high-teen', 'growth'), ('expect', 'growth'), ('expect', 'for Lyft)'), ('Raymond James analysts', 'saw'), ('slowe', 'sequential growth'), ('saw', 'sequential growth'), ('saw', 'sequential'), ('saw', 'in bookings'), ('saw', 'for Lyft'), ('saw', 'in the fourth quarter)'), ('Mizuho Securities analysts', 'rate'), ('rate', 'Uber'), ('a top opening play', 'rate'), ('Mizuho Securities analysts', 'expect'), ('driver supply', 'improve'), ('expect', 'improve'), ('Uber Eats', 'hold its own against'), ('hold its own against', 'DoorDash'), ('expect', 'hold its own against'), ('Mizuho Securities analysts', 'anticipate'), ('positive regulatory resolution at state level', 'gig labor issues'), ('anticipate', 'gig labor issues'), ('New York', 'track similar to'), ('Massachusetts', 'track similar to'), ('in California', 'Prop 22'), ('track similar to', 'Prop 22'), ('likely', 'track similar to'), ('FactSet', 'surveyed'), ('38', 'analysts'), ('surveyed', 'analysts'), ('32', 'FactSet Analysts'), ('FactSet Analysts', 'rate'), ('rate', 'Uber Stock'), ('buy', 'rate'), ('4', 'FactSet Analysts'), ('FactSet Analysts', 'rate'), ('rate', 'Uber Stock'), ('hold', 'rate'), ('2', 'FactSet Analysts'), ('FactSet Analysts', 'rate'), ('rate', 'Uber Stock'), ('overweight', 'rate'), ('FactSet Analysts', 'set'), ('averag', 'Price target'), ('set', 'Price target'), ('set', '$67.36)'), ('FactSet', 'surveyed'), ('34', 'analysts'), ('surveyed', 'analysts'), ('19', 'FactSet Analysts'), ('FactSet Analysts', 'rate'), ('rate', 'Lyft Stock'), ('buy', 'rate'), ('11', 'FactSet Analysts'), ('FactSet Analysts', 'rate'), ('rate', 'Lyft Stock'), ('hold', 'rate'), ('3', 'FactSet Analysts'), ('FactSet Analysts', 'rate'), ('rate', 'Lyft Stock'), ('sell', 'rate'), ('1', 'FactSet Analysts'), ('FactSet Analysts', 'rate'), ('rate', 'Lyft Stock'), ('overweight', 'rate'), ('Analysts', 'set'), ('averag', 'price target'), ('set', 'price target'), ('set', '$64.79)')]\n"
     ]
    }
   ],
   "source": [
    "def split_attributes(chunk):\n",
    "    # chunk = chunk.strip()\n",
    "    if \"(\" not in chunk:\n",
    "        return chunk, None\n",
    "    # print(chunk)\n",
    "    ent, attrs = chunk.split('(')\n",
    "    ent = ent.strip()\n",
    "    attrs = [attr.strip() for attr in attrs[:-1].split(',')]\n",
    "    return ent.strip(), attrs\n",
    "\n",
    "def recombine_chunks(ent_list):\n",
    "    # For {} chunks, recombine them\n",
    "    open_idxs = []\n",
    "    close_idxs = []\n",
    "    for i, ent in enumerate(ent_list):\n",
    "        if '{' in ent:\n",
    "            open_idxs.append(i)\n",
    "        if '}' in ent:\n",
    "            close_idxs.append(i)\n",
    "            \n",
    "    assert len(open_idxs) == len(close_idxs), \"Mismatch brackets in line: \" + str(ent_list)\n",
    "    for i, open_idx in enumerate(open_idxs):\n",
    "        # If open and close are in same chunk, no need to merge\n",
    "        if open_idx == close_idxs[i]:\n",
    "            continue\n",
    "        ent_list = ent_list[:open_idx] + [\"\".join(ent_list[open_idx:close_idxs[i] + 1])] + ent_list[close_idxs[i] + 1:]\n",
    "        # print(\"list:\", [ent.strip() for ent in ent_list])\n",
    "    return [ent.strip() for ent in ent_list]\n",
    "\n",
    "def parse_SVO(line):\n",
    "    edges = []\n",
    "    # Get subj ents\n",
    "    # TODO: Handle case: {status of food delivery [changing]} [affects] Uber\n",
    "    subj_ents, rest = [l.strip() for l in line.split('[', maxsplit=1)]\n",
    "    subj_ents = recombine_chunks(subj_ents.split(',')) \n",
    "    subj_ents = filter(None, subj_ents)\n",
    "    \n",
    "\n",
    "    # print(\"subjs:\", subj_ents)\n",
    "                \n",
    "    # Get action and obj_ents\n",
    "    action, obj_ents = rest.split(']', maxsplit=1)\n",
    "    obj_ents = recombine_chunks(obj_ents.split(','))\n",
    "    obj_ents = filter(None, obj_ents)\n",
    "    # print(\"objs:\", obj_ents)\n",
    "    \n",
    "    # Get attributes\n",
    "    # print(subj_ents, action, obj_ents)\n",
    "    # for ent in subj_ents:\n",
    "        # if \n",
    "        # split_attributes(ent)\n",
    "        # subj_ents =[ for ent in subj_ents]\n",
    "    action, action_attrs = split_attributes(action)\n",
    "    # obj_ents = [split_attributes(ent) for ent in obj_ents]\n",
    "    \n",
    "    # Add edges\n",
    "    for ent in subj_ents:\n",
    "        if ent[0] == '{':\n",
    "            # print(\"Recursing on \", ent.strip()[1:-1])\n",
    "            new_edges, new_action = parse_SVO(ent.strip()[1:-1])\n",
    "            edges.extend(new_edges)\n",
    "            edges.append((new_action, action))\n",
    "        else:\n",
    "            ent, attrs = split_attributes(ent)\n",
    "            # Add any attributes\n",
    "            if attrs:\n",
    "                for attr in attrs:\n",
    "                    edges.append((attr, ent))\n",
    "            # Add entity-action\n",
    "            edges.append((ent, action))\n",
    "    \n",
    "    for ent in obj_ents:\n",
    "        if ent[0] == '{':\n",
    "            # print(\"Recursing on \", ent.strip()[1:-1])\n",
    "            new_edges, new_action = parse_SVO(ent.strip()[1:-1])\n",
    "            edges.extend(new_edges)\n",
    "            edges.append((action, new_action))\n",
    "        else:\n",
    "            ent, attrs = split_attributes(ent)\n",
    "            # Add any attributes\n",
    "            if attrs:\n",
    "                for attr in attrs:\n",
    "                    edges.append((attr, ent))\n",
    "            # Add entity-action\n",
    "            edges.append((action, ent))\n",
    "    \n",
    "    if action_attrs:\n",
    "        for attr in action_attrs:\n",
    "            edges.append((attr, action))\n",
    "    return edges, action\n",
    "\n",
    "def parse_interactions(interaction_lines):\n",
    "    edges = []\n",
    "    for line in interaction_lines[:]:\n",
    "        # line = interaction_lines[0]\n",
    "        # print(\"Processing:\", line)\n",
    "        new_edges, _ = parse_SVO(line)\n",
    "        edges.extend(new_edges)\n",
    "    return edges\n",
    "\n",
    "edges = parse_interactions(interaction_lines)\n",
    "print(edges)"
   ]
  },
  {
   "cell_type": "code",
   "execution_count": null,
   "metadata": {},
   "outputs": [],
   "source": []
  },
  {
   "cell_type": "code",
   "execution_count": null,
   "metadata": {},
   "outputs": [],
   "source": []
  }
 ],
 "metadata": {
  "interpreter": {
   "hash": "2673dc15ede12b932d4705493734f5e380ada2f0f3d41e925a93ee6556f8662d"
  },
  "kernelspec": {
   "display_name": "Python 3.9.9 64-bit ('venv': venv)",
   "language": "python",
   "name": "python3"
  },
  "language_info": {
   "codemirror_mode": {
    "name": "ipython",
    "version": 3
   },
   "file_extension": ".py",
   "mimetype": "text/x-python",
   "name": "python",
   "nbconvert_exporter": "python",
   "pygments_lexer": "ipython3",
   "version": "3.9.9"
  },
  "orig_nbformat": 4
 },
 "nbformat": 4,
 "nbformat_minor": 2
}
